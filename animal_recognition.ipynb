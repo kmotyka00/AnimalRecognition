{
 "cells": [
  {
   "cell_type": "markdown",
   "metadata": {},
   "source": [
    "## Wczytanie danych"
   ]
  },
  {
   "cell_type": "code",
   "execution_count": 2,
   "metadata": {},
   "outputs": [],
   "source": [
    "import os\n",
    "import cv2\n",
    "import matplotlib.pyplot as plt\n",
    "import random\n",
    "import tensorflow as tf\n",
    "import numpy as np\n",
    "\n",
    "from keras.preprocessing.image import img_to_array"
   ]
  },
  {
   "cell_type": "code",
   "execution_count": 4,
   "metadata": {},
   "outputs": [
    {
     "name": "stdout",
     "output_type": "stream",
     "text": [
      "c:\\Users\\kacpe\\Desktop\\AnimalRecognition\\train\n"
     ]
    },
    {
     "ename": "AttributeError",
     "evalue": "module 'tensorflow.keras.utils' has no attribute 'image_dataset_from_directory'",
     "output_type": "error",
     "traceback": [
      "\u001b[1;31m---------------------------------------------------------------------------\u001b[0m",
      "\u001b[1;31mAttributeError\u001b[0m                            Traceback (most recent call last)",
      "\u001b[1;32m<ipython-input-4-bcb3ff2e800d>\u001b[0m in \u001b[0;36m<module>\u001b[1;34m\u001b[0m\n\u001b[0;32m     40\u001b[0m \u001b[0mprint\u001b[0m\u001b[1;33m(\u001b[0m\u001b[0mtrain_dir\u001b[0m\u001b[1;33m)\u001b[0m\u001b[1;33m\u001b[0m\u001b[1;33m\u001b[0m\u001b[0m\n\u001b[0;32m     41\u001b[0m \u001b[1;33m\u001b[0m\u001b[0m\n\u001b[1;32m---> 42\u001b[1;33m train_ds = tf.keras.utils.image_dataset_from_directory(\n\u001b[0m\u001b[0;32m     43\u001b[0m   \u001b[0mtrain_dir\u001b[0m\u001b[1;33m,\u001b[0m\u001b[1;33m\u001b[0m\u001b[1;33m\u001b[0m\u001b[0m\n\u001b[0;32m     44\u001b[0m   \u001b[0mvalidation_split\u001b[0m\u001b[1;33m=\u001b[0m\u001b[1;36m0\u001b[0m\u001b[1;33m,\u001b[0m\u001b[1;33m\u001b[0m\u001b[1;33m\u001b[0m\u001b[0m\n",
      "\u001b[1;31mAttributeError\u001b[0m: module 'tensorflow.keras.utils' has no attribute 'image_dataset_from_directory'"
     ]
    }
   ],
   "source": [
    "def read_img(img_path, show=False):\n",
    "    img = tf.keras.preprocessing.image.load_img(img_path)\n",
    "    if show is True:\n",
    "        plt.imshow(img)\n",
    "        plt.show()\n",
    "    return img\n",
    "\n",
    "# train_images_path = list()\n",
    "# train_labels = list()\n",
    "\n",
    "# test_images_path = list()\n",
    "# test_labels = list()\n",
    "\n",
    "\n",
    "# for dirname, x, filenames in os.walk(root + \"\\data\"):\n",
    "#     for filename in filenames:\n",
    "#         if \"train\" in dirname:\n",
    "#             train_images_path.append(os.path.join(dirname, filename))\n",
    "#             if \"cat\" in dirname:\n",
    "#                 train_labels.append(0) # cat\n",
    "#             elif \"dog\" in dirname:\n",
    "#                 train_labels.append(1) # dog\n",
    "#             else:\n",
    "#                 train_labels.append(2) # wild\n",
    "                \n",
    "#         elif \"val\" in dirname:\n",
    "#             test_images_path.append(os.path.join(dirname, filename))\n",
    "#             if \"cat\" in dirname:\n",
    "#                 test_labels.append(0)\n",
    "#             elif \"dog\" in dirname:\n",
    "#                 test_labels.append(1)\n",
    "#             else:\n",
    "#                 test_labels.append(2)\n",
    "\n",
    "# categories_names = [\"cat\", \"dog\", \"wild\"]\n",
    "\n",
    "root = os.getcwd()\n",
    "train_dir = os.path.join(root, \"train\")\n",
    "test_dir = os.path.join(root, \"val\")\n",
    "print(train_dir)\n",
    "\n",
    "train_ds = tf.keras.utils.image_dataset_from_directory(\n",
    "  train_dir,\n",
    "  validation_split=0,\n",
    "  subset=\"training\",\n",
    "  seed=123,\n",
    "  image_size=(256, 256),\n",
    "  batch_size=32)\n",
    "\n",
    "test_ds = tf.keras.utils.image_dataset_from_directory(\n",
    "  test_dir,\n",
    "  validation_split=1,\n",
    "  subset=\"validation\",\n",
    "  seed=123,\n",
    "  image_size=(256, 256),\n",
    "  batch_size=32)\n",
    "\n",
    "# plt.imshow(train_images[1])"
   ]
  },
  {
   "cell_type": "markdown",
   "metadata": {},
   "source": [
    "## Przykładowe wczytanie zdjęcia"
   ]
  },
  {
   "cell_type": "code",
   "execution_count": null,
   "metadata": {},
   "outputs": [
    {
     "name": "stdout",
     "output_type": "stream",
     "text": [
      "<class 'PIL.JpegImagePlugin.JpegImageFile'>\n"
     ]
    }
   ],
   "source": [
    "print(type(train_images[1]))"
   ]
  }
 ],
 "metadata": {
  "interpreter": {
   "hash": "84ea23bba3262778290e4113f9813c2e70005ee0706c90e479c176a1dbe6f9f7"
  },
  "kernelspec": {
   "display_name": "Python 3.8.3 64-bit ('base': conda)",
   "language": "python",
   "name": "python3"
  },
  "language_info": {
   "codemirror_mode": {
    "name": "ipython",
    "version": 3
   },
   "file_extension": ".py",
   "mimetype": "text/x-python",
   "name": "python",
   "nbconvert_exporter": "python",
   "pygments_lexer": "ipython3",
   "version": "3.8.3"
  },
  "orig_nbformat": 4
 },
 "nbformat": 4,
 "nbformat_minor": 2
}
